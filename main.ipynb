{
 "cells": [
  {
   "cell_type": "markdown",
   "metadata": {},
   "source": [
    "## Load model"
   ]
  },
  {
   "cell_type": "code",
   "execution_count": 2,
   "metadata": {},
   "outputs": [
    {
     "name": "stderr",
     "output_type": "stream",
     "text": [
      "config.json: 100%|██████████| 1.74k/1.74k [00:00<00:00, 1.78MB/s]\n",
      "model.safetensors: 100%|██████████| 558M/558M [01:35<00:00, 5.82MB/s] \n",
      "generation_config.json: 100%|██████████| 292/292 [00:00<?, ?B/s] \n",
      "Some non-default generation parameters are set in the model config. These should go into a GenerationConfig file (https://huggingface.co/docs/transformers/generation_strategies#save-a-custom-decoding-strategy-with-your-model) instead. This warning will be raised to an exception in v4.41.\n",
      "Non-default generation parameters: {'early_stopping': True, 'num_beams': 4, 'no_repeat_ngram_size': 3, 'forced_bos_token_id': 0, 'forced_eos_token_id': 2}\n"
     ]
    },
    {
     "data": {
      "text/plain": [
       "('model/bart_base_fine_tunning\\\\tokenizer_config.json',\n",
       " 'model/bart_base_fine_tunning\\\\special_tokens_map.json',\n",
       " 'model/bart_base_fine_tunning\\\\vocab.json',\n",
       " 'model/bart_base_fine_tunning\\\\merges.txt',\n",
       " 'model/bart_base_fine_tunning\\\\added_tokens.json',\n",
       " 'model/bart_base_fine_tunning\\\\tokenizer.json')"
      ]
     },
     "execution_count": 2,
     "metadata": {},
     "output_type": "execute_result"
    }
   ],
   "source": [
    "from load_model import BartBase\n",
    "from transformers import BartForConditionalGeneration, AutoTokenizer\n",
    "\n",
    "# model = BartForConditionalGeneration.from_pretrained(\"facebook/bart-base\")\n",
    "# tokenizer = AutoTokenizer.from_pretrained(\"facebook/bart-base\")\n",
    "\n",
    "model_name = \"QuanHcmus/bert-finetuning-cola\"\n",
    "tokenizer = \"facebook/bart-base\"\n",
    "save_path = \"model/bart_base_fine_tunning\"\n",
    "\n",
    "BartForConditionalGeneration.from_pretrained(model_name).save_pretrained(save_path)\n",
    "AutoTokenizer.from_pretrained(tokenizer).save_pretrained(save_path)"
   ]
  },
  {
   "cell_type": "markdown",
   "metadata": {},
   "source": [
    "## Test model"
   ]
  },
  {
   "cell_type": "code",
   "execution_count": 13,
   "metadata": {},
   "outputs": [],
   "source": [
    "path_model = \"model/bart_base_fine_tunning\"\n",
    "tokenizer = AutoTokenizer.from_pretrained(path_model)\n",
    "model = BartForConditionalGeneration.from_pretrained(path_model)\n",
    "\n",
    "text = \"\"\"\n",
    "The Impact of Social Media on Society\n",
    "\n",
    "In the contemporary world, social media has emerged as a significant force shaping the way individuals communicate, interact, and perceive reality. Platforms such as Facebook, Twitter, Instagram, and TikTok have revolutionized the dissemination of information, offering unprecedented connectivity and access to global communities. While social media has numerous benefits, including fostering relationships, democratizing information, and providing a platform for self-expression, it also presents several challenges that impact society in complex ways.\n",
    "\n",
    "One of the most profound impacts of social media is its ability to connect people across vast distances. Families and friends separated by geography can maintain close relationships through regular updates and instant messaging. Social media also enables individuals to form communities based on shared interests, transcending traditional barriers such as nationality, language, and culture. This connectivity has facilitated movements for social change, as seen in the Arab Spring, the Black Lives Matter movement, and climate change activism, where social media played a crucial role in organizing protests, raising awareness, and mobilizing support.\n",
    "\n",
    "Moreover, social media has democratized access to information. Traditional media outlets, which were once the gatekeepers of news, now share the stage with citizen journalists and bloggers. This shift has allowed for a diversity of voices and perspectives, contributing to a more informed public. Individuals can access real-time updates on global events, follow experts in various fields, and engage in discussions on issues that matter to them. This democratization has also led to increased transparency and accountability, as public figures and institutions are held to account by the vigilant eyes of social media users.\n",
    "\n",
    "In addition to these benefits, social media provides a powerful platform for self-expression and creativity. Users can share their thoughts, art, music, and other forms of content with a global audience. This has given rise to a new generation of content creators who can build careers and gain recognition outside traditional media structures. For many, social media is a source of inspiration and a way to connect with like-minded individuals.\n",
    "\n",
    "However, the pervasive nature of social media also presents several challenges. One of the most significant issues is the spread of misinformation and fake news. The speed at which information spreads on social media means that false or misleading content can quickly gain traction, leading to confusion and mistrust. The algorithms that drive these platforms often prioritize sensational or emotionally charged content, exacerbating the problem. This has implications for public health, politics, and societal cohesion, as seen during the COVID-19 pandemic and various election cycles worldwide.\n",
    "\n",
    "Another critical concern is the impact of social media on mental health. Studies have shown that excessive use of social media can lead to feelings of inadequacy, anxiety, and depression. The curated nature of social media feeds, where individuals often present idealized versions of their lives, can create unrealistic expectations and a sense of comparison among users. Cyberbullying and online harassment are also prevalent issues, affecting individuals' well-being and self-esteem, particularly among younger users.\n",
    "\n",
    "Privacy is another significant concern in the age of social media. The data collected by these platforms is vast and often used for targeted advertising, raising questions about user consent and data security. High-profile data breaches and scandals, such as the Cambridge Analytica incident, have highlighted the risks associated with the commodification of personal information.\n",
    "\n",
    "Despite these challenges, social media remains an integral part of modern life, with its influence continuing to grow. It has the potential to foster positive change and innovation, but this requires a concerted effort from users, policymakers, and tech companies to address its negative aspects. By promoting digital literacy, implementing robust privacy protections, and encouraging responsible use, society can harness the benefits of social media while mitigating its drawbacks.\n",
    "\n",
    "In conclusion, social media has transformed the way we connect, communicate, and consume information. Its impact on society is multifaceted, offering both opportunities and challenges. As we navigate this digital landscape, it is crucial to strike a balance that maximizes the positive aspects of social media while addressing its inherent risks. Only then can we fully leverage its potential for societal good.\n",
    "\"\"\"\n",
    "inputs = tokenizer(text, max_length=1024, return_tensors=\"pt\", truncation=True)\n",
    "summary_ids = model.generate(inputs[\"input_ids\"], num_beams=4, min_length=40, max_length=150, length_penalty=2.0)"
   ]
  },
  {
   "cell_type": "code",
   "execution_count": 14,
   "metadata": {},
   "outputs": [
    {
     "data": {
      "text/plain": [
       "'the impact of social media on society is multifaceted , offering both opportunities and challenges . \\n while social media has numerous benefits , including fostering relationships , democratizing information , and providing a platform for self-expression , it also presents several challenges that impact society in complex ways.in this article , we discuss the challenges that affect society in this digital era and discuss the potential for social media to foster positive change and innovation .'"
      ]
     },
     "execution_count": 14,
     "metadata": {},
     "output_type": "execute_result"
    }
   ],
   "source": [
    "tokenizer.decode(summary_ids[0], skip_special_tokens=True, clean_up_tokenization_spaces=False)"
   ]
  }
 ],
 "metadata": {
  "kernelspec": {
   "display_name": "Python 3",
   "language": "python",
   "name": "python3"
  },
  "language_info": {
   "codemirror_mode": {
    "name": "ipython",
    "version": 3
   },
   "file_extension": ".py",
   "mimetype": "text/x-python",
   "name": "python",
   "nbconvert_exporter": "python",
   "pygments_lexer": "ipython3",
   "version": "3.11.5"
  }
 },
 "nbformat": 4,
 "nbformat_minor": 2
}
